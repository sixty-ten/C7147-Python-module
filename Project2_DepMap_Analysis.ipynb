{
  "cells": [
    {
      "cell_type": "markdown",
      "metadata": {
        "id": "view-in-github",
        "colab_type": "text"
      },
      "source": [
        "<a href=\"https://colab.research.google.com/github/sixty-ten/C7147-Python-module/blob/main/Project2_DepMap_Analysis.ipynb\" target=\"_parent\"><img src=\"https://colab.research.google.com/assets/colab-badge.svg\" alt=\"Open In Colab\"/></a>"
      ]
    },
    {
      "cell_type": "markdown",
      "metadata": {
        "id": "XGoW4nf1nHcY"
      },
      "source": [
        "# Project 2: DepMap Data Analysis\n",
        "\n",
        "## Integrating Gene Expression and Dependency to Discover Therapeutic Targets\n",
        "\n",
        "We want to use DepMap gene effect and expression data to investigate the gene PKMYT1.\n",
        "PKMYT1 is a cell-cycle kinase that prevents premature Cdk1 activation. It has recently gained attention\n",
        "as a potential cancer target.\n",
        "In this project we want to find out which cancers depend on PKMYT1, and in which cancers is PKMYT1 highly expressed.\n",
        "We will then see how expression and dependency are correlated and if this correlation is statistically significant.\n",
        "In the next stage of the analysis we will find genes that show similar patterns of dependency and expression acrosss all cancer cell lines\n",
        "using correlation analysis. We will check the top 100 correlated genes and investigate them further:\n",
        "How much overlap is there between expression and dependency? What pathways is the gene collection enriched for?\n",
        "\n",
        "\n",
        "**Learning Objectives:**\n",
        "- Perform exploratory data analysis (EDA) and Quality Control (QC) on complex data sets\n",
        "- Analyze relationships between gene expression and functional dependencies\n",
        "- Implement correlation analyses across multiple data modalities\n",
        "- Integrate multi-omic data to identify therapeutic targets\n",
        "- Create publication-quality visualizations of complex genomic data\n",
        "\n",
        "---"
      ]
    },
    {
      "cell_type": "markdown",
      "source": [
        "## Overview of the Assessment"
      ],
      "metadata": {
        "id": "pa7WfrKwAYVi"
      }
    },
    {
      "cell_type": "markdown",
      "metadata": {
        "id": "UYUyRC6nnHcn"
      },
      "source": [
        "#### Completing the Assessment\n",
        "\n",
        "❗ **IMPORTANT: Where to enter your answers**\n",
        "\n",
        "Enter your answers **only** in the 🟥 🟦 🟩 🟪 **Enter your code and text here** sections below:\n",
        "- Code cells should include code to perform the analyses specified and to generate the tables, plots, and CSV files\n",
        "- Text cells should answer the questions posed in each subsection (double-click to edit)\n",
        "\n",
        "---"
      ]
    },
    {
      "cell_type": "markdown",
      "source": [
        "#### Marking Criteria: Overview\n",
        "\n",
        "This notebook consists of 4 parts that should be completed sequentially. The breakdown of marks for each Part are as follows:\n",
        "\n",
        "| Part | Marks |\n",
        "|------|--------|\n",
        "| Part 1: EDA | 20 |\n",
        "| Part 2: Correlations | 35 |\n",
        "| Part 3: Enrichment | 35 |\n",
        "| Part 4: Summary | 10 |\n",
        "| **Total** | **100** |\n",
        "\n",
        "Refer to the 🎯 **Marking Criteria** subsections for exact guidance on what to include for Parts 1-4.\n",
        "\n",
        "---"
      ],
      "metadata": {
        "id": "2VXAsC-PGhBv"
      }
    },
    {
      "cell_type": "markdown",
      "metadata": {
        "id": "jMLQwKnlnHcn"
      },
      "source": [
        "#### Marking Criteria: Code Quality\n",
        "\n",
        "A proportion of the marks for your notebook are based on overall quality, organisation, and documentation of your code (see 🎯 Marking Criteria subsections for details).\n",
        "\n",
        "**Assessment Criteria:**\n",
        "\n",
        "**1. Code Organisation**\n",
        "- Clear, readable code following Python conventions (PEP 8)\n",
        "- No unnecessary code duplication\n",
        "- Helper functions for repetitive tasks\n",
        "\n",
        "**2. Code Documentation**\n",
        "- Meaningful variable and function names (e.g., `pkmyt1_expr` not `x` or `df1`)\n",
        "- Comments explaining WHY, not just WHAT\n",
        "- Docstrings for any custom functions\n",
        "\n",
        "**3. Code Quality**\n",
        "- Notebook runs from top to bottom without errors\n",
        "- Output cells show expected results\n",
        "- All output files (CSVs) and plots can be regenerated\n",
        "- Random seeds set where applicable\n",
        "\n",
        "**Tips for Excellence:**\n",
        "- Create helper functions for repetitive tasks (e.g., `plot_volcano()`, `calculate_correlations()`, `run_enrichment()`)\n",
        "- Add brief interpretations in markdown after each major result\n",
        "- Keep code cells focused - one major task per cell\n",
        "- Use informative commit messages if using version control\n",
        "\n",
        "---"
      ]
    },
    {
      "cell_type": "markdown",
      "source": [
        "#### Marking Criteria: Figure Quality\n",
        "\n",
        "-\tCorrect/appropriate plot type\n",
        "- Axis labels with units and figure titles where applicable\n",
        "-\tAppropriate axis ranges and/or scaling (e.g. -log10)\n",
        "-\tClear, readable labels and legends\n",
        "-\tGood use of colour with consistent colour schemes across figures\n",
        "-\tAppropriate font sizes that are consistent across figures\n",
        "-\tProfessional appearance suitable for publication\n",
        "\n",
        "Also see Part 4 for specific guidance on criteria for the Summary figure."
      ],
      "metadata": {
        "id": "erwD0M7MFQ5Q"
      }
    },
    {
      "cell_type": "markdown",
      "source": [
        "---\n",
        "#### Tips for the assessment\n",
        "- Start early and work incrementally\n",
        "- Save your work frequently\n",
        "- Test your code as you go\n",
        "- Ask questions if you get stuck\n",
        "- Focus on biological interpretation, not just computational output\n",
        "- Your goal is to tell a coherent scientific story about PKMYT1\n",
        "\n",
        "**This assignment will take approximately 20-40 hours, depending on your experience level. Plan accordingly!**"
      ],
      "metadata": {
        "id": "DTD7rC1fAqvj"
      }
    },
    {
      "cell_type": "markdown",
      "source": [
        "---\n",
        "#### Submitting the Assessment\n",
        "\n",
        "You should submit your completed version of this **Colab/Jupyter Notebook** via the Canvas E-submission portal with the filename `Project2_DepMap_Analysis.ipynb`.\n",
        "\n",
        "Please see the **Assessments and Feedback** page of the module Canvas site for more details."
      ],
      "metadata": {
        "id": "KG5HcQqJBbNG"
      }
    },
    {
      "cell_type": "markdown",
      "metadata": {
        "id": "EvDYbcz8nHca"
      },
      "source": [
        "---\n",
        "## Setup and Imports"
      ]
    },
    {
      "cell_type": "code",
      "execution_count": null,
      "metadata": {
        "id": "nKtTR5eOnHca",
        "outputId": "7d814359-b48f-43ac-ad89-3592b05213d6"
      },
      "outputs": [
        {
          "name": "stdout",
          "output_type": "stream",
          "text": [
            "Libraries loaded successfully!\n"
          ]
        }
      ],
      "source": [
        "import pandas as pd\n",
        "import numpy as np\n",
        "import matplotlib.pyplot as plt\n",
        "import seaborn as sns\n",
        "from scipy import stats\n",
        "from scipy.cluster import hierarchy\n",
        "import warnings\n",
        "warnings.filterwarnings('ignore')\n",
        "\n",
        "# Set plotting style\n",
        "sns.set_style('whitegrid')\n",
        "plt.rcParams['figure.figsize'] = (10, 6)\n",
        "plt.rcParams['figure.dpi'] = 100\n",
        "\n",
        "print(\"Libraries loaded successfully!\")"
      ]
    },
    {
      "cell_type": "code",
      "execution_count": null,
      "metadata": {
        "id": "V40pVUGOnHcb"
      },
      "outputs": [],
      "source": [
        "# mounting google drive and getting path to data directory\n",
        "from google.colab import drive\n",
        "\n",
        "\n",
        "drive.mount(\"/content/drive\")\n",
        "\n",
        "# 2. Load the cached files\n",
        "data_dir = \"/content/drive/MyDrive/Colab_Data\"\n"
      ]
    },
    {
      "cell_type": "markdown",
      "metadata": {
        "id": "xYGvMbyRnHcb"
      },
      "source": [
        "---\n",
        "\n",
        "## Part 1: 🔎 Data Loading and EDA\n",
        "In this section, you will load the DepMap datasets and perform a thorough exploratory data analysis (EDA). Understanding your data is the critical first step in any computational biology project. You'll characterize the structure, identify potential quality issues, and gain initial insights into PKMYT1's role across cancer cell lines.\n"
      ]
    },
    {
      "cell_type": "markdown",
      "metadata": {
        "id": "lQ8cZiGFnHce"
      },
      "source": [
        "### 🎯 Marking Criteria: deliverables for Part 1\n",
        "- [ ] Well-structured and commented Python code that generates specified analyses and plots\n",
        "- [ ] Code to generate PKMYT1 expression vs. dependency scatter plot (from Part 1.2)\n",
        "- [ ] Code to generate PKMYT1 dependency across cancer types (box plot or bar plot from Part 1.3)\n",
        "- [ ] Written interpretations after each subsection (total ~200 words)\n",
        "\n",
        "### Tips:\n",
        "- Use meaningful variable names (e.g., `pkmyt1_expr` not `df1`)\n",
        "- Add axis labels with units where applicable\n",
        "- Use consistent color schemes across plots\n",
        "- Comment your code to explain \"why\" not just \"what\"\n",
        "- Check for and document any unexpected findings (outliers, missing data patterns, etc.)"
      ]
    },
    {
      "cell_type": "markdown",
      "metadata": {
        "id": "WJ-EAdzXnHcb"
      },
      "source": [
        "### Part 1.1: Load Data and Create Summary Statistics\n",
        "\n",
        "**Dataset Information:**\n",
        "You will work with three DepMap datasets:\n",
        "- `CCLE_expression.csv` - Gene expression data (RNA-seq, log2(TPM+1))\n",
        "- `CRISPR_gene_effect.csv` - Gene dependency scores (Chronos algorithm)\n",
        "- `sample_info.csv` - Cell line metadata (tissue type, disease, etc.)\n",
        "\n",
        "**Tasks:**\n",
        "\n",
        "1. **Import required libraries and load datasets**\n",
        "   - Load the three CSV files using pandas\n",
        "   - Display the first 5 rows of each dataset to verify successful loading\n",
        "   - Print the shape (rows × columns) of each dataframe\n",
        "\n",
        "2. **Data structure analysis**\n",
        "   - How many cell lines are present in each dataset?\n",
        "   - How many genes are measured in the expression dataset?\n",
        "   - How many genes are measured in the dependency dataset?\n",
        "   - Are the same cell lines present in all three datasets? (Use set operations to check overlap)\n",
        "   - What are the column names and data types in the metadata file?\n",
        "\n",
        "3. **Missing value assessment and strategy**\n",
        "   - Calculate the percentage of missing values in each dataset\n",
        "   - Create a visualization (bar plot or heatmap) showing missing data patterns\n",
        "   - For the expression and dependency datasets, which genes have the most missing values?\n",
        "   \n",
        "   **Missing Value Strategy:**\n",
        "   - **For genes:** Exclude genes with >20% missing values across cell lines\n",
        "   - **For cell lines:** For PKMYT1-specific analyses, use only complete cases\n",
        "   - **Rationale:** 20% threshold balances data quality with information retention\n",
        "   - **Document:** Report how many genes/cell lines were removed\n",
        "   \n",
        "   ```python\n",
        "   # Example code structure:\n",
        "   # Calculate missing percentage per gene\n",
        "   missing_pct = (df.isnull().sum() / len(df)) * 100\n",
        "   \n",
        "   # Filter genes with <20% missing\n",
        "   genes_to_keep = missing_pct[missing_pct < 20].index\n",
        "   df_filtered = df[genes_to_keep]\n",
        "   \n",
        "   print(f\"Removed {len(df.columns) - len(genes_to_keep)} genes due to missing data\")\n",
        "   ```\n",
        "\n",
        "4. **Descriptive statistics**\n",
        "   - Generate summary statistics (mean, median, std, min, max, quartiles) for:\n",
        "     - Gene expression values across all genes\n",
        "     - Gene dependency scores across all genes\n",
        "   - Create histograms showing the distribution of:\n",
        "     - All expression values\n",
        "     - All dependency scores\n",
        "   - What do these distributions tell you about the data scaling and normalization?\n",
        "\n",
        "\n",
        " **Expected Output:**\n",
        "- Clear summary tables with row/column counts\n",
        "- Missing value report with percentages and removal decisions\n",
        "- Distribution plots with axis labels and titles\n",
        "- Written interpretation (1-2 sentences) of what the distributions reveal\n",
        "\n",
        "---"
      ]
    },
    {
      "cell_type": "markdown",
      "source": [
        "#### 🟥 Enter your code and text here"
      ],
      "metadata": {
        "id": "WpoIXwtz1WGr"
      }
    },
    {
      "cell_type": "code",
      "execution_count": null,
      "metadata": {
        "id": "vKUb9oxxnHcc"
      },
      "outputs": [],
      "source": [
        "# Part 1.1 code here"
      ]
    },
    {
      "cell_type": "markdown",
      "source": [
        "*Part 1.1 written answers here*"
      ],
      "metadata": {
        "id": "5UwT1QmY1nA9"
      }
    },
    {
      "cell_type": "markdown",
      "source": [
        "---"
      ],
      "metadata": {
        "id": "1XTIM6sR2zHb"
      }
    },
    {
      "cell_type": "markdown",
      "metadata": {
        "id": "nO34WHaUnHcc"
      },
      "source": [
        " ### Part 1.2: Focus on PKMYT1 - Initial Characterization\n",
        "\n",
        "Now that you understand the overall dataset structure, let's zoom in on our gene of interest: PKMYT1.\n",
        "\n",
        "**Tasks:**\n",
        "\n",
        "1. **Extract PKMYT1 data**\n",
        "   - Find and extract PKMYT1 expression values across all cell lines\n",
        "   - Find and extract PKMYT1 dependency scores across all cell lines\n",
        "   - How many cell lines have data for both expression AND dependency?\n",
        "   - Create a merged dataframe containing: cell_line_id, PKMYT1_expression, PKMYT1_dependency\n",
        "\n",
        "2. **PKMYT1 distribution analysis**\n",
        "    - Create side-by-side histograms or violin plots showing:\n",
        "      - Distribution of PKMYT1 expression across all cell lines\n",
        "      - Distribution of PKMYT1 dependency across all cell lines\n",
        "    - Calculate and report:\n",
        "      - Mean and median for both metrics\n",
        "       - Percentage of cell lines that are \"dependent\" on PKMYT1 (dependency score < -0.5)\n",
        "       - Percentage of cell lines with \"high expression\" of PKMYT1 (expression > median)\n",
        "\n",
        "3. **Initial visualization**\n",
        "    - Create a scatter plot: PKMYT1 expression (x-axis) vs. PKMYT1 dependency (y-axis)\n",
        "    - Add a regression line to visualize the trend\n",
        "    - Color points by whether they are dependent (score < -0.5) or not\n",
        "    - What is your initial observation? Does higher expression correlate with dependency?\n",
        "\n",
        "**Expected Output:**\n",
        "- Clean merged dataframe (cell lines × PKMYT1 metrics)\n",
        "- Distribution plots with proper labels\n",
        "- Annotated scatter plot with legend\n",
        "- Brief interpretation (2-3 sentences)\n",
        "\n",
        "---\n"
      ]
    },
    {
      "cell_type": "markdown",
      "source": [
        "#### 🟥 Enter your code and text here"
      ],
      "metadata": {
        "id": "7ezrTbAj2mXi"
      }
    },
    {
      "cell_type": "code",
      "execution_count": null,
      "metadata": {
        "id": "42LrWqUa2mXj"
      },
      "outputs": [],
      "source": [
        "# Part 1.2 code here"
      ]
    },
    {
      "cell_type": "markdown",
      "source": [
        "*Part 1.2 written answers here*"
      ],
      "metadata": {
        "id": "FOa4ZObY2mXj"
      }
    },
    {
      "cell_type": "markdown",
      "source": [
        "---"
      ],
      "metadata": {
        "id": "me4JECaP2wWp"
      }
    },
    {
      "cell_type": "markdown",
      "metadata": {
        "id": "3tgxlRftnHcd"
      },
      "source": [
        "### Part 1.3: Cancer Type Analysis\n",
        "\n",
        "Cancer biology is tissue-specific. Different cancer types may show different dependencies on PKMYT1. Let's integrate the metadata to explore this.\n",
        "\n",
        "**Tasks:**\n",
        "\n",
        "1. **Merge with metadata** (1 point)\n",
        "   - Create new columns:\n",
        "     - `is_dependent`: Boolean (True if dependency < -0.5)\n",
        "\n",
        "2. **Cancer type summary statistics**\n",
        "   - Group cell lines by primary_disease or lineage\n",
        "   - For each cancer type, calculate:\n",
        "     - Number of cell lines\n",
        "     - Mean PKMYT1 expression\n",
        "     - Mean PKMYT1 dependency\n",
        "     - Percentage of dependent cell lines\n",
        "   - Create a summary table sorted by mean dependency (most dependent first)\n",
        "   - Which 5 cancer types show the strongest dependency on PKMYT1?\n",
        "\n",
        "3. **Visualize cancer-specific patterns**\n",
        "   - Create a grouped bar plot or box plot showing PKMYT1 dependency across cancer types\n",
        "     - Include only cancer types with at least 5 cell lines\n",
        "     - Order by median dependency\n",
        "   - Create a similar plot for PKMYT1 expression across cancer types\n",
        "   - Create a heatmap showing mean expression and dependency for top 15 cancer types\n",
        "\n",
        "**Expected Output:**\n",
        "- Comprehensive summary table (cancer types × statistics)\n",
        "- Publication-quality plots with clear labels\n",
        "- Interpretation: Which cancer types are most vulnerable to PKMYT1 inhibition? (1-2 sentences)\n",
        "\n",
        "---"
      ]
    },
    {
      "cell_type": "markdown",
      "source": [
        "#### 🟥 Enter your code and text here"
      ],
      "metadata": {
        "id": "glkzCl2x23ju"
      }
    },
    {
      "cell_type": "code",
      "execution_count": null,
      "metadata": {
        "id": "Eipea2GK23jv"
      },
      "outputs": [],
      "source": [
        "# Part 1.3 code here"
      ]
    },
    {
      "cell_type": "markdown",
      "source": [
        "*Part 1.3 written answers here*"
      ],
      "metadata": {
        "id": "izIYtGTJ23jw"
      }
    },
    {
      "cell_type": "markdown",
      "source": [
        "---"
      ],
      "metadata": {
        "id": "Kzyi688e26CC"
      }
    },
    {
      "cell_type": "markdown",
      "metadata": {
        "id": "ncPqnBrxnHcd"
      },
      "source": [
        "### Part 1.4: Overall Correlation Analysis\n",
        "\n",
        "Finally, let's quantify the relationship between PKMYT1 expression and dependency statistically.\n",
        "\n",
        "#### 📊 Understanding Correlation\n",
        "\n",
        "Before starting, make sure you understand what correlation coefficients mean:\n",
        "\n",
        "**Pearson correlation (r):** Measures linear relationship, sensitive to outliers  \n",
        "**Spearman correlation (ρ):** Rank-based, robust to outliers and non-linear monotonic relationships\n",
        "\n",
        "**Interpretation of correlation strength:**\n",
        "- |r| < 0.3: Weak correlation\n",
        "- |r| = 0.3-0.7: Moderate correlation  \n",
        "- |r| > 0.7: Strong correlation\n",
        "\n",
        "**P-value interpretation:**\n",
        "- p < 0.05: \"statistically significant\" - meaning there is less than a 5% probability of observing an effect at least as extreme as the one in the sample, assuming no true effect exists.\n",
        "- **IMPORTANT**: Statistically significant ≠ biologically meaningful!\n",
        "- Always report BOTH correlation coefficient AND p-value\n",
        "- A correlation can be statistically significant but too weak to be biologically interesting (e.g., r=0.15, p=0.001 with large n)\n",
        "\n",
        "**When Pearson ≠ Spearman:**\n",
        "- Large differences suggest outliers, non-linear relationships, or non-normal distributions\n",
        "- Always check scatter plots when correlations disagree\n",
        "\n",
        "---\n",
        "\n",
        "**Tasks:**\n",
        "\n",
        "1. **Calculate correlation**\n",
        "   - Calculate Pearson correlation between PKMYT1 expression and dependency\n",
        "   - Calculate Spearman correlation (rank-based, robust to outliers)\n",
        "   - Report both correlation coefficients and p-values\n",
        "   - What do these values tell you? Is the correlation significant?\n",
        "\n",
        "2. **Visualize the relationship**\n",
        "   - Create an enhanced scatter plot with:\n",
        "     - PKMYT1 expression (x) vs. dependency (y)\n",
        "     - Points colored by cancer lineage (pick top 5-6 lineages)\n",
        "     - Regression line with confidence interval (use seaborn regplot)\n",
        "     - Correlation coefficient and p-value annotated on the plot\n",
        "   - Add reference lines at dependency = -0.5 and expression = median\n",
        "\n",
        "3. **Stratified correlation analysis**\n",
        "   - Calculate correlation separately for each major cancer lineage\n",
        "   - Create a table showing:\n",
        "     - Cancer type\n",
        "     - Sample size (n)\n",
        "     - Correlation coefficient\n",
        "     - p-value\n",
        "   - Which cancer types show the strongest correlation?\n",
        "   - Are there cancer types where the correlation is weak or opposite?\n",
        "\n",
        "**Expected Output:**\n",
        "- Statistical summary (correlation table)\n",
        "- Annotated scatter plot with biological context\n",
        "- Stratified analysis table\n",
        "- Interpretation: Does the expression-dependency relationship hold across all cancer types? (2-3 sentences)\n",
        "\n",
        "---"
      ]
    },
    {
      "cell_type": "markdown",
      "source": [
        "#### 🟥 Enter your code and text here"
      ],
      "metadata": {
        "id": "cA8YvEEK3Hok"
      }
    },
    {
      "cell_type": "code",
      "execution_count": null,
      "metadata": {
        "id": "wGX6CVbh3Hok"
      },
      "outputs": [],
      "source": [
        "# Part 1.4 code here"
      ]
    },
    {
      "cell_type": "markdown",
      "source": [
        "*Part 1.4 written answers here*"
      ],
      "metadata": {
        "id": "FSquef4A3Hol"
      }
    },
    {
      "cell_type": "markdown",
      "source": [
        "---"
      ],
      "metadata": {
        "id": "O8yzcgTr3Hol"
      }
    },
    {
      "cell_type": "markdown",
      "metadata": {
        "id": "SmF-5BzInHce"
      },
      "source": [
        "---\n",
        "---\n",
        "## Part 2: 🧬 Genome-Wide Correlation Analysis\n",
        "\n",
        "Now that we understand PKMYT1's individual characteristics, we'll identify genes with similar patterns across cancer cell lines. Co-dependent genes may be part of the same pathway or represent synthetic lethal relationships. Co-expressed genes might share regulatory mechanisms. This analysis will help us understand PKMYT1's biological context and identify potential combination therapy targets.\n",
        "\n"
      ]
    },
    {
      "cell_type": "markdown",
      "metadata": {
        "id": "KpX2DamPnHce"
      },
      "source": [
        "### Background: Understanding Different Correlation Types\n",
        "\n",
        "Before starting, ensure you understand what each correlation type reveals:\n",
        "\n",
        "| Analysis Type | X-axis | Y-axis | Biological Meaning |\n",
        "|--------------|---------|---------|-------------------|\n",
        "| **Dependency-Dependency** | PKMYT1 dependency | Gene X dependency | Genes needed together (pathway members) or synthetic lethal pairs |\n",
        "| **Expression-Expression** | PKMYT1 expression | Gene X expression | Co-regulated genes, pathway co-expression |\n",
        "| **Expression-Dependency** | PKMYT1 expression | Gene X dependency | Expression of PKMYT1 predicts need for Gene X (biomarker potential) |\n",
        "\n",
        "**Correlation sign interpretation:**\n",
        "- **Positive correlation in dependency**: Both genes tend to be essential together (same pathway/complex)\n",
        "- **Negative correlation in dependency**: When one is essential, the other is not (synthetic lethality, backup pathways)\n",
        "- **Positive correlation in expression**: Genes co-regulated, possibly functionally related\n",
        "- **Negative correlation in expression**: Genes inversely regulated\n",
        "\n"
      ]
    },
    {
      "cell_type": "markdown",
      "metadata": {
        "id": "xVNw7C4InHcg"
      },
      "source": [
        "### 🎯 Marking Criteria: deliverables for Part 2\n",
        "- [ ] Well-structured and commented Python code that generates specified analyses and plots\n",
        "- [ ] Code to generate volcano plots from correlation analysis (from Part 2.3)\n",
        "- [ ] Code to generate CSV files of top 100 genes lists for dependency-dependency, expression-expression and expression-dependency analyses (from Part 2.3):\n",
        "  - `pkmyt1_top100_dep_dep.csv`\n",
        "  - `pkmyt1_top100_expr_expr.csv`\n",
        "  - `pkmyt1_top100_expr_dep.csv`\n",
        "- [ ] Code to generate CSV file of top correlations (from Part 2.3):\n",
        "  - `pkmyt1_top_correlations_integrated.csv`\n",
        "- [ ] Written interpretations (~300 words total) specified in each subsection\n",
        "\n",
        "---\n",
        "\n",
        "### Tips for Success:\n",
        "- **Code organization**: Create helper functions for repetitive tasks (e.g., `calculate_correlations()`, `plot_volcano()`, `apply_fdr_correction()`)\n",
        "- **Memory management**: Don't keep large intermediate dataframes in memory unnecessarily\n",
        "- **Reproducibility**: Set random seeds if using any sampling\n",
        "- **Documentation**: Explain your filtering criteria (e.g., why FDR < 0.05?)\n",
        "- **Biological thinking**: Always ask \"what does this correlation mean biologically?\"\n",
        "\n",
        "### Common Pitfalls to Avoid:\n",
        "- ⚠️ Including PKMYT1 in its own correlation analysis (will always be r=1.0, p=0)\n",
        "- ⚠️ Mixing up gene names between expression and dependency datasets\n",
        "- ⚠️ Forgetting to filter for complete cases (NaN handling)\n",
        "- ⚠️ Not applying FDR correction separately to each analysis\n",
        "- ⚠️ Using uncorrected p-values after Part 2.2\n",
        "- ⚠️ Not sorting by absolute correlation values when looking for \"strongest\" correlations\n",
        "- ⚠️ Confusing correlation with causation in interpretation"
      ]
    },
    {
      "cell_type": "markdown",
      "metadata": {
        "id": "N2OR0d9onHce"
      },
      "source": [
        "---\n",
        "\n",
        "### Part 2.1: Compute Genome-Wide Correlations\n",
        "\n",
        "You'll calculate correlations between PKMYT1 and all other genes in three ways. This is computationally intensive, so code efficiency matters!\n",
        "\n",
        "**⚡ Performance Tip:** Calculating 18,000 correlations inefficiently can take 15-30 minutes. Using vectorized operations (see template below) reduces this to 1-2 minutes!\n",
        "\n",
        "**Tasks:**\n",
        "\n",
        "1. **Prepare data for correlation analysis**\n",
        "   - Filter datasets to include only cell lines with complete data (no NaN for PKMYT1)\n",
        "   - Ensure the same cell lines are used across all three analyses\n",
        "   - Report: How many cell lines remain after filtering?\n",
        "   - Extract PKMYT1 vectors for each analysis:\n",
        "     - `pkmyt1_dep`: PKMYT1 dependency scores\n",
        "     - `pkmyt1_expr`: PKMYT1 expression values\n",
        "   - **Pro tip**: Remove PKMYT1 itself from the gene lists to avoid self-correlation\n",
        "\n",
        "2. **Analysis 1: PKMYT1 Dependency vs. All Gene Dependencies**\n",
        "   - For each gene in the dependency dataset, calculate:\n",
        "     - Pearson correlation coefficient and p-value\n",
        "     - Spearman correlation coefficient and p-value\n",
        "   - Create a results dataframe with columns:\n",
        "     - `gene_name`\n",
        "     - `pearson_r_dep`\n",
        "     - `pearson_p_dep`\n",
        "     - `spearman_r_dep`\n",
        "     - `spearman_p_dep`\n",
        "   - **Use the efficient correlation template below!**\n",
        "   - How long did this calculation take? (use `%%time` magic command or `time.time()`)\n",
        "\n",
        "   **💡 Efficient Correlation Code Template:**\n",
        "   \n",
        "   ```python\n",
        "   import pandas as pd\n",
        "   from scipy.stats import pearsonr, spearmanr\n",
        "   import time\n",
        "   \n",
        "   # Extract PKMYT1 dependency values\n",
        "   pkmyt1_dep = dependency_df['PKMYT1']\n",
        "   \n",
        "   # Get all other genes (remove PKMYT1 to avoid self-correlation)\n",
        "   other_genes_dep = dependency_df.drop(columns=['PKMYT1'])\n",
        "   \n",
        "   # FAST: Use pandas built-in corrwith() for correlation coefficients\n",
        "   start = time.time()\n",
        "   pearson_r = other_genes_dep.corrwith(pkmyt1_dep, method='pearson')\n",
        "   spearman_r = other_genes_dep.corrwith(pkmyt1_dep, method='spearman')\n",
        "   print(f\"✅ Correlation coefficients calculated in {time.time()-start:.2f}s\")\n",
        "   \n",
        "   # Calculate p-values (requires scipy, slower)\n",
        "   pearson_p = []\n",
        "   spearman_p = []\n",
        "   \n",
        "   for gene in other_genes_dep.columns:\n",
        "       # Remove NaN pairs for each gene\n",
        "       valid_mask = ~(pkmyt1_dep.isna() | other_genes_dep[gene].isna())\n",
        "       x = pkmyt1_dep[valid_mask]\n",
        "       y = other_genes_dep[gene][valid_mask]\n",
        "       \n",
        "       # Calculate p-values\n",
        "       _, pp = pearsonr(x, y)\n",
        "       _, sp = spearmanr(x, y)\n",
        "       pearson_p.append(pp)\n",
        "       spearman_p.append(sp)\n",
        "   \n",
        "   print(f\"✅ P-values calculated in {time.time()-start:.2f}s total\")\n",
        "   \n",
        "   # Create results dataframe\n",
        "   results_dep_dep = pd.DataFrame({\n",
        "       'gene': other_genes_dep.columns,\n",
        "       'pearson_r': pearson_r.values,\n",
        "       'pearson_p': pearson_p,\n",
        "       'spearman_r': spearman_r.values,\n",
        "       'spearman_p': spearman_p\n",
        "   })\n",
        "   \n",
        "   print(f\"✅ Analyzed {len(results_dep_dep)} genes\")\n",
        "   ```\n",
        "\n",
        "3. **Analysis 2: PKMYT1 Expression vs. All Gene Expression**\n",
        "   - Repeat the same process for expression data using the template above\n",
        "   - Adapt the code to use `pkmyt1_expr` and expression dataframe\n",
        "   - Create a results dataframe with columns:\n",
        "     - `gene_name`\n",
        "     - `pearson_r_expr`\n",
        "     - `pearson_p_expr`\n",
        "     - `spearman_r_expr`\n",
        "     - `spearman_p_expr`\n",
        "   - Save this dataframe for later use\n",
        "\n",
        "4. **Analysis 3: PKMYT1 Expression vs. All Gene Dependencies (Cross-Modal)**\n",
        "   - This cross-modal analysis asks: \"Does PKMYT1 expression predict dependency on other genes?\"\n",
        "   - Calculate correlations between:\n",
        "     - X: PKMYT1 expression values\n",
        "     - Y: Each gene's dependency scores\n",
        "   - **Important**: Ensure you're matching the same cell lines between expression and dependency datasets!\n",
        "   - Create results dataframe with columns:\n",
        "     - `gene_name`\n",
        "     - `pearson_r_expr_dep`\n",
        "     - `pearson_p_expr_dep`\n",
        "     - `spearman_r_expr_dep`\n",
        "     - `spearman_p_expr_dep`\n",
        "   - **Biological insight**: Strong positive correlations suggest genes whose essentiality is predictable from PKMYT1 expression (potential biomarkers!)\n",
        "\n",
        "**Expected Output:**\n",
        "- Three correlation dataframes (one per analysis type)\n",
        "- Performance report: computation time for each analysis\n",
        "- Sanity checks:\n",
        "  - Verify all correlations are between -1 and 1\n",
        "  - No NaN values in results\n",
        "  - Number of genes analyzed matches expectation\n",
        "- Brief comment: Did the vectorized approach make a difference? (1 sentence)\n",
        "\n",
        "---\n"
      ]
    },
    {
      "cell_type": "markdown",
      "source": [
        "#### 🟦 Enter your code and text here"
      ],
      "metadata": {
        "id": "tX9kBFuo35gd"
      }
    },
    {
      "cell_type": "code",
      "execution_count": null,
      "metadata": {
        "id": "vzr2AktK35gf"
      },
      "outputs": [],
      "source": [
        "# Part 2.1 code here"
      ]
    },
    {
      "cell_type": "markdown",
      "source": [
        "*Part 2.1 written answers here*"
      ],
      "metadata": {
        "id": "13YwWEnw35gf"
      }
    },
    {
      "cell_type": "markdown",
      "metadata": {
        "id": "wV8JUL4pnHcf"
      },
      "source": [
        "---\n",
        "\n",
        "### Part 2.2: Multiple Testing Correction\n",
        "\n",
        "**⚠️ The Multiple Testing Problem**\n",
        "\n",
        "When testing 18,000 genes at significance level α=0.05, we expect **900 false positives** (18,000 × 0.05)! That is to say that we expect to incorrectly reject the null hypothesis for 900 of the genes! Without correction, your results would be contaminated with hundreds of false discoveries.\n",
        "\n",
        "**Why This Matters in Genomics:**\n",
        "- Testing one hypothesis: p<0.05 means 5% chance of false positive\n",
        "- Testing 18,000 hypotheses: nearly guaranteed to have false positives\n",
        "- **Solution**: Adjust p-values to control false discovery rate (FDR)\n",
        "\n",
        "**False Discovery Rate (FDR):**\n",
        "- FDR < 0.05 means \"at most 5% of my significant results are false positives\"\n",
        "- More appropriate than controlling family-wise error rate (FWER) for exploratory genomics\n",
        "- Less conservative than Bonferroni correction, but maintains statistical rigor\n",
        "\n",
        "**Bonferroni vs. FDR:**\n",
        "- **Bonferroni**: Very conservative, controls probability of ANY false positive\n",
        "  - Adjusted p-value = original p-value × number of tests\n",
        "  - Use when false positives are very costly\n",
        "- **FDR (Benjamini-Hochberg)**: Controls proportion of false positives among discoveries\n",
        "  - Standard in genomics and recommended here\n",
        "  - Better statistical power while maintaining control\n",
        "\n",
        "---\n",
        "\n",
        "**Tasks:**\n",
        "\n",
        "1. **Quantify the multiple testing problem**\n",
        "   - Calculate expected false positives: number of genes × 0.05\n",
        "   - For each of your three analyses (dep-dep, expr-expr, expr-dep):\n",
        "     - Count genes with uncorrected p < 0.05\n",
        "     - Compare with expected false positives\n",
        "   - Create a summary table:\n",
        "     - Analysis type\n",
        "     - Total genes tested\n",
        "     - Expected false positives (at α=0.05)\n",
        "     - Observed \"significant\" (p<0.05, uncorrected)\n",
        "     - Is observed ≈ expected? What does this tell you?\n",
        "\n",
        "2. **Apply FDR correction**\n",
        "   - Use `statsmodels.stats.multitest.multipletests()` with method='fdr_bh'\n",
        "   - Apply to **each analysis separately** (don't mix p-values from different analyses!)\n",
        "   - Add new columns to each results dataframe:\n",
        "     - `pearson_fdr`\n",
        "     - `spearman_fdr`\n",
        "     - `significant_pearson` (Boolean: FDR < 0.05)\n",
        "     - `significant_spearman` (Boolean: FDR < 0.05)\n",
        "   \n",
        "   **Code Template:**\n",
        "   ```python\n",
        "   from statsmodels.stats.multitest import multipletests\n",
        "   \n",
        "   # For each analysis (e.g., dep-dep):\n",
        "   # Apply FDR correction to Pearson p-values\n",
        "   reject, pvals_corrected, _, _ = multipletests(\n",
        "       results_dep_dep['pearson_p'],\n",
        "       method='fdr_bh',\n",
        "       alpha=0.05\n",
        "   )\n",
        "   results_dep_dep['pearson_fdr'] = pvals_corrected\n",
        "   results_dep_dep['significant_pearson'] = reject\n",
        "   \n",
        "   # Repeat for Spearman p-values\n",
        "   reject, pvals_corrected, _, _ = multipletests(\n",
        "       results_dep_dep['spearman_p'],\n",
        "       method='fdr_bh',\n",
        "       alpha=0.05\n",
        "   )\n",
        "   results_dep_dep['spearman_fdr'] = pvals_corrected\n",
        "   results_dep_dep['significant_spearman'] = reject\n",
        "   \n",
        "   # Repeat for expr-expr and expr-dep analyses\n",
        "   ```\n",
        "\n",
        "3. **Compare before and after correction**\n",
        "   - Create a comparison table showing:\n",
        "     - Analysis type\n",
        "     - Significant with p < 0.05 (uncorrected)\n",
        "     - Significant with FDR < 0.05 (corrected)\n",
        "     - Significant with FDR < 0.01 (strict)\n",
        "     - Reduction percentage\n",
        "   - Visualize with grouped bar plot\n",
        "\n",
        "4. **Interpret the correction**\n",
        "   - Why did so many genes lose significance after correction?\n",
        "   - Does this mean the original p-values were \"wrong\"? (No! Explain why.)\n",
        "   - Which analysis (dep-dep, expr-expr, expr-dep) retained the most significant genes?\n",
        "   - What does this tell you about the strength of each biological signal?\n",
        "   - Write 2-3 sentences addressing these questions\n",
        "\n",
        "**📌 Important for All Future Analyses:**\n",
        "From now on, when you refer to \"significant\" genes, you MUST use FDR < 0.05, not uncorrected p-values. This is standard practice in genomics.\n",
        "\n",
        "**Expected Output:**\n",
        "- Updated dataframes with FDR-corrected p-values and significance flags\n",
        "- Before/after comparison table\n",
        "- Bar plot comparing significance counts\n",
        "- Written interpretation explaining the multiple testing problem and its solution\n",
        "\n",
        "---"
      ]
    },
    {
      "cell_type": "markdown",
      "source": [
        "#### 🟦 Enter your code and text here"
      ],
      "metadata": {
        "id": "BjeSyDLb3pfd"
      }
    },
    {
      "cell_type": "code",
      "execution_count": null,
      "metadata": {
        "id": "F8Bc19tL3pfe"
      },
      "outputs": [],
      "source": [
        "# Part 2.2 code here"
      ]
    },
    {
      "cell_type": "markdown",
      "source": [
        "*Part 2.2 written answers here*"
      ],
      "metadata": {
        "id": "3jgPgAsB3pfe"
      }
    },
    {
      "cell_type": "markdown",
      "metadata": {
        "id": "1jnI2HHPnHcf"
      },
      "source": [
        "---\n",
        "\n",
        "### Part 2.3: Identify, Visualize, and Integrate Top Correlations\n",
        "\n",
        "Now let's identify the genes most strongly correlated with PKMYT1, visualize these relationships, and create an integrated analysis.\n",
        "\n",
        "**Tasks:**\n",
        "\n",
        "1. **Select top 100 genes per analysis**\n",
        "   - For each of the three analyses, create a \"top 100\" dataframe:\n",
        "     - **For dependency-dependency and expression-expression**:\n",
        "       - Top 50 positive correlations (sorted by Pearson r, descending)\n",
        "       - Top 50 negative correlations (sorted by Pearson r, ascending)\n",
        "     - **For expression-dependency**:\n",
        "       - Same approach (top 50 positive, top 50 negative)\n",
        "   - **Requirement**: Genes MUST meet significance threshold (FDR < 0.05)\n",
        "   - If fewer than 50 meet the threshold in either direction, include all significant genes\n",
        "   - Add a column `correlation_direction` (\"positive\" or \"negative\")\n",
        "   - Save each list as CSV:\n",
        "     - `pkmyt1_top100_dep_dep.csv`\n",
        "     - `pkmyt1_top100_expr_expr.csv`\n",
        "     - `pkmyt1_top100_expr_dep.csv`\n",
        "\n",
        "2. **Create volcano plots**\n",
        "   - For each analysis type, create a volcano plot:\n",
        "     - X-axis: Pearson correlation coefficient\n",
        "     - Y-axis: -log10(FDR)\n",
        "     - Color points:\n",
        "       - Red: significant positive (FDR < 0.05, r > 0)\n",
        "       - Blue: significant negative (FDR < 0.05, r < 0)\n",
        "       - Gray: not significant\n",
        "     - Label the top 10 most significant genes (5 positive + 5 negative)\n",
        "   - Add reference lines:\n",
        "     - Vertical: r = 0 (no correlation)\n",
        "     - Horizontal: -log10(0.05) ≈ 1.3 (significance threshold)\n",
        "   - **Pro tip**: Use `adjustText` library or `matplotlib.pyplot.annotate()` with careful positioning\n",
        "\n",
        "3. **Distribution of correlations**\n",
        "   - Create histograms showing the distribution of ALL Pearson correlation coefficients for each analysis\n",
        "   - Overlay:\n",
        "     - Mean correlation (dashed line)\n",
        "     - Median correlation (solid line)\n",
        "     - Cutoffs for top 100 genes (dotted lines)\n",
        "     - Shade regions corresponding to \"significant\" (FDR < 0.05)\n",
        "   - Do correlations appear normally distributed?\n",
        "   - Compare distributions across the three analyses\n",
        "\n",
        "4. **Compare Pearson vs. Spearman**\n",
        "   - Create scatter plots comparing Pearson vs. Spearman correlations for each analysis\n",
        "   - Calculate the correlation between Pearson and Spearman r values\n",
        "   - Identify genes where Pearson and Spearman disagree substantially (|difference| > 0.2)\n",
        "   - **Biological interpretation**: Large disagreements suggest non-linear relationships or outliers\n",
        "   - Pick 2-3 genes with large disagreements and create scatter plots of their actual data showing why the correlation metrics differ\n",
        "\n",
        "5. **Integrated results table**\n",
        "   - Create a master dataframe combining results from all three analyses\n",
        "   - Include all genes that appear in ANY of the top 100 lists\n",
        "   - Columns should include:\n",
        "     - `gene_name`\n",
        "     - `in_top_dep_dep`, `in_top_expr_expr`, `in_top_expr_dep` (Booleans)\n",
        "     - `num_lists_present` (count: 1, 2, or 3)\n",
        "     - All correlation coefficients and FDR values from the three analyses:\n",
        "       - `pearson_r_dep`, `pearson_fdr_dep`, `spearman_r_dep`, `spearman_fdr_dep`\n",
        "       - `pearson_r_expr`, `pearson_fdr_expr`, `spearman_r_expr`, `spearman_fdr_expr`\n",
        "       - `pearson_r_expr_dep`, `pearson_fdr_expr_dep`, `spearman_r_expr_dep`, `spearman_fdr_expr_dep`\n",
        "   - Sort by: (1) `num_lists_present` (descending), then (2) average |Pearson r| across analyses (descending)\n",
        "   - Save as: `pkmyt1_top_correlations_integrated.csv`\n",
        "\n",
        "6. **Overlap analysis with Venn diagram**\n",
        "   - Create a 3-way Venn diagram showing overlap between the three top 100 gene lists\n",
        "   - Use the `matplotlib-venn` library\n",
        "   - Calculate Jaccard similarity coefficients between each pair of lists:\n",
        "     - Jaccard = |A ∩ B| / |A ∪ B|\n",
        "   - Create a summary table of:\n",
        "     - Genes present in all three lists (highest priority!)\n",
        "     - Genes present in exactly two lists\n",
        "     - Include their correlation values across all analyses\n",
        "   - **Code template:**\n",
        "   ```python\n",
        "   from matplotlib_venn import venn3\n",
        "   import matplotlib.pyplot as plt\n",
        "   \n",
        "   set1 = set(genes_dep_dep)\n",
        "   set2 = set(genes_expr_expr)  \n",
        "   set3 = set(genes_expr_dep)\n",
        "   \n",
        "   fig, ax = plt.subplots(figsize=(10, 8))\n",
        "   venn3([set1, set2, set3],\n",
        "         set_labels=('Dep-Dep', 'Expr-Expr', 'Expr-Dep'),\n",
        "         ax=ax)\n",
        "   plt.title('Overlap of PKMYT1-Correlated Genes Across Analyses', fontsize=14)\n",
        "   plt.show()\n",
        "   \n",
        "   # Get intersections\n",
        "   core_genes = set1 & set2 & set3\n",
        "   print(f\"Core genes (all 3 lists): {len(core_genes)}\")\n",
        "   print(f\"Genes: {sorted(core_genes)}\")\n",
        "   ```\n",
        "\n",
        "**Expected Output:**\n",
        "- Three \"top 100\" CSV files\n",
        "- One integrated master table CSV\n",
        "- Three volcano plots with gene annotations\n",
        "- Three distribution histograms\n",
        "- Three Pearson vs. Spearman scatter plots\n",
        "- 2-3 example scatter plots showing Pearson/Spearman disagreements\n",
        "- Venn diagram with overlap statistics\n",
        "- Jaccard similarity matrix\n",
        "- High-priority gene list (genes in 2+ categories with FDR < 0.01 in all analyses)\n",
        "- Written interpretation (~200 words) addressing:\n",
        "  - What do the correlation patterns tell us about PKMYT1 biology?\n",
        "  - Which analysis type gave the most informative results?\n",
        "  - Do co-dependent genes tend to be co-expressed?\n",
        "  - What are your top 5 candidate genes for further study and why?\n",
        "\n",
        "---"
      ]
    },
    {
      "cell_type": "markdown",
      "source": [
        "#### 🟦 Enter your code and text here"
      ],
      "metadata": {
        "id": "zgFVsZDL4gbg"
      }
    },
    {
      "cell_type": "code",
      "execution_count": null,
      "metadata": {
        "id": "2VR0Pfz94gbg"
      },
      "outputs": [],
      "source": [
        "# Part 2.3 code here"
      ]
    },
    {
      "cell_type": "markdown",
      "source": [
        "*Part 2.3 written answers here*"
      ],
      "metadata": {
        "id": "BZR_-Q6o4gbh"
      }
    },
    {
      "cell_type": "markdown",
      "metadata": {
        "id": "TL5KEim3nHcg"
      },
      "source": [
        "---\n",
        "## Part 3: 🦠 Integration Analysis and Pathway Enrichment\n",
        "\n",
        "In this final analytical section, you'll integrate your correlation results to identify common biological themes. Which genes appear in multiple correlation lists? What pathways and biological processes are enriched among PKMYT1-correlated genes? This analysis will help you understand PKMYT1's broader role in cancer biology and identify potential therapeutic strategies.\n",
        "\n"
      ]
    },
    {
      "cell_type": "markdown",
      "metadata": {
        "id": "s1tU_cIXnHcg"
      },
      "source": [
        "### Background: Gene Set Enrichment Analysis (GSEA)\n",
        "\n",
        "**Why pathway enrichment matters:**\n",
        "Finding 100 correlated genes is interesting, but what does it *mean*? Pathway enrichment analysis answers: \"Are these genes randomly scattered across biology, or do they cluster in specific pathways?\" This tells us whether we're observing real biological signal or just noise.\n",
        "\n",
        "**Common pathway databases:**\n",
        "- **GO Biological Process**: Broad biological functions (e.g., \"cell cycle\", \"DNA repair\")\n",
        "- **GO Molecular Function**: Specific molecular activities (e.g., \"kinase activity\")\n",
        "- **KEGG**: Metabolic and signaling pathways\n",
        "- **Reactome**: Curated pathway database\n",
        "- **MSigDB Hallmarks**: Cancer-relevant gene sets (highly recommended!)\n",
        "\n"
      ]
    },
    {
      "cell_type": "markdown",
      "source": [
        "### 🎯 Marking Criteria: deliverables for Part 3\n",
        "\n",
        "- [ ] Well-structured and commented Python code that generates specified analyses and plots\n",
        "- [ ] Code to generate Venn diagram showing overlap of top correlations (from Part 3.2)\n",
        "- [ ] Code to generate top enriched pathways bar plot (from Part 3.3)\n",
        "- [ ] Code to generate heatmap showing expression/dependency of core genes across cancer types (from Part 3.4)\n",
        "- [ ] Written interpretations (~300 words) specified in each subsection"
      ],
      "metadata": {
        "id": "9yM9Rsanrcj6"
      }
    },
    {
      "cell_type": "markdown",
      "metadata": {
        "id": "pq1lNuFOnHcg"
      },
      "source": [
        "---\n",
        "\n",
        "### Part 3.1: Setup and Install Required Tools\n",
        "\n",
        "**Tasks:**\n",
        "\n",
        "1. **Install GSEApy in Google Colab**\n",
        "\n",
        "```python\n",
        "!pip install gseapy\n",
        "import gseapy as gp\n",
        "```\n",
        "\n",
        "2. **Verify installation and explore databases**\n",
        "   - Check available gene set libraries:\n",
        "\n",
        "```python\n",
        "# See what databases are available\n",
        "available_dbs = gp.get_library_name()\n",
        "print(f\"Total databases available: {len(available_dbs)}\")\n",
        "\n",
        "# Filter for relevant ones\n",
        "for db in available_dbs:\n",
        "    if 'GO_Biological' in db or 'KEGG' in db or 'MSigDB' in db or 'Hallmark' in db:\n",
        "        print(db)\n",
        "```\n",
        "\n",
        "   - **Recommendation**: Start with these three databases for your enrichment analyses:\n",
        "     - `'GO_Biological_Process_2023'` - Broad biological functions\n",
        "     - `'KEGG_2021_Human'` - Curated metabolic and signaling pathways\n",
        "     - `'MSigDB_Hallmark_2020'` - Cancer-relevant gene sets\n",
        "\n",
        "**Expected Output:**\n",
        "- Successful installation confirmation\n",
        "- List of selected databases with brief justification\n",
        "\n",
        "---\n",
        "\n"
      ]
    },
    {
      "cell_type": "markdown",
      "source": [
        "#### 🟩 Enter your code and text here"
      ],
      "metadata": {
        "id": "fHxLAmLO5xRY"
      }
    },
    {
      "cell_type": "code",
      "execution_count": null,
      "metadata": {
        "id": "cahxFdnB5xRZ"
      },
      "outputs": [],
      "source": [
        "# Part 3.1 code here"
      ]
    },
    {
      "cell_type": "markdown",
      "source": [
        "*Part 3.1 written answers here*"
      ],
      "metadata": {
        "id": "uXQuuGfQ5xRa"
      }
    },
    {
      "cell_type": "markdown",
      "metadata": {
        "id": "cakGZVwVnHcg"
      },
      "source": [
        "---\n",
        "\n",
        "### Part 3.2: Overlap Analysis - Venn Diagrams\n",
        "\n",
        "Before enrichment, let's understand how much overlap exists between your three correlation analyses.\n",
        "\n",
        "**Tasks:**\n",
        "\n",
        "1. **Prepare gene lists**\n",
        "   - From Part 2, extract three gene lists (top 100 from each analysis):\n",
        "     - `genes_dep_dep`: Genes correlated with PKMYT1 dependency (in dependency data)\n",
        "     - `genes_expr_expr`: Genes correlated with PKMYT1 expression (in expression data)\n",
        "     - `genes_expr_dep`: Genes whose dependency correlates with PKMYT1 expression\n",
        "   - Convert to Python sets for overlap calculations\n",
        "   - Report the size of each set\n",
        "   - For each list, also separate into positive vs. negative correlations\n",
        "\n",
        "2. **Create 3-way Venn diagram for all genes**\n",
        "   - Generate a 3-way Venn diagram showing all overlaps between the three analyses\n",
        "   - Use the code template below\n",
        "   - Customize with:\n",
        "     - Set labels (clear, descriptive names)\n",
        "     - Count labels in each region\n",
        "     - Colors matching your previous plots\n",
        "     - Title: \"Overlap of PKMYT1-Correlated Genes Across Analyses\"\n",
        "   \n",
        "   **Code Template:**\n",
        "   ```python\n",
        "   from matplotlib_venn import venn3\n",
        "   import matplotlib.pyplot as plt\n",
        "   \n",
        "   # Prepare sets\n",
        "   set1 = set(genes_dep_dep)\n",
        "   set2 = set(genes_expr_expr)  \n",
        "   set3 = set(genes_expr_dep)\n",
        "   \n",
        "   # Create Venn diagram\n",
        "   fig, ax = plt.subplots(figsize=(10, 8))\n",
        "   venn = venn3([set1, set2, set3],\n",
        "                 set_labels=('Dep-Dep\\nCorrelated',\n",
        "                            'Expr-Expr\\nCorrelated',\n",
        "                            'Expr-Dep\\nCorrelated'),\n",
        "                 ax=ax)\n",
        "   plt.title('Overlap of PKMYT1-Correlated Genes Across Analyses',\n",
        "             fontsize=14, fontweight='bold')\n",
        "   plt.show()\n",
        "   \n",
        "   # Calculate overlaps\n",
        "   all_three = set1 & set2 & set3\n",
        "   dep_expr = (set1 & set2) - set3\n",
        "   dep_cross = (set1 & set3) - set2\n",
        "   expr_cross = (set2 & set3) - set1\n",
        "   \n",
        "   print(f\"\\\\nGenes in all three lists: {len(all_three)}\")\n",
        "   print(f\"Genes in Dep-Dep AND Expr-Expr only: {len(dep_expr)}\")\n",
        "   print(f\"Genes in Dep-Dep AND Expr-Dep only: {len(dep_cross)}\")\n",
        "   print(f\"Genes in Expr-Expr AND Expr-Dep only: {len(expr_cross)}\")\n",
        "   ```\n",
        "\n",
        "3. **Calculate Jaccard similarity**\n",
        "   - Calculate Jaccard similarity coefficients between each pair of lists\n",
        "   - Jaccard similarity = |A ∩ B| / |A ∪ B|\n",
        "   - Create a similarity matrix showing:\n",
        "     - Dep-Dep vs. Expr-Expr\n",
        "     - Dep-Dep vs. Expr-Dep\n",
        "     - Expr-Expr vs. Expr-Dep\n",
        "   - Which pair of analyses has the most overlap?\n",
        "   \n",
        "   ```python\n",
        "   # Calculate Jaccard similarities\n",
        "   def jaccard_similarity(set1, set2):\n",
        "       intersection = len(set1 & set2)\n",
        "       union = len(set1 | set2)\n",
        "       return intersection / union if union > 0 else 0\n",
        "   \n",
        "   j_dep_expr = jaccard_similarity(set1, set2)\n",
        "   j_dep_cross = jaccard_similarity(set1, set3)\n",
        "   j_expr_cross = jaccard_similarity(set2, set3)\n",
        "   \n",
        "   print(f\"Jaccard similarity (Dep-Dep vs Expr-Expr): {j_dep_expr:.3f}\")\n",
        "   print(f\"Jaccard similarity (Dep-Dep vs Expr-Dep): {j_dep_cross:.3f}\")\n",
        "   print(f\"Jaccard similarity (Expr-Expr vs Expr-Dep): {j_expr_cross:.3f}\")\n",
        "   ```\n",
        "\n",
        "4. **Separate analysis by correlation direction**\n",
        "   - Create separate Venn diagrams for:\n",
        "     - Positively correlated genes (in all three analyses)\n",
        "     - Negatively correlated genes (in all three analyses)\n",
        "   - This requires 2 separate 3-way Venns\n",
        "   - Do you see different overlap patterns for positive vs. negative correlations?\n",
        "   - **Biological interpretation**:\n",
        "     - Positively correlated genes: likely in same pathway/complex as PKMYT1\n",
        "     - Negatively correlated genes: may represent compensatory pathways\n",
        "\n",
        "**Expected Output:**\n",
        "- Clear, publication-quality Venn diagrams (3 total: all, positive, negative)\n",
        "- Jaccard similarity matrix\n",
        "- List of \"core\" genes (present in all three lists)\n",
        "- Detailed table of genes in each overlap region with their correlation values\n",
        "- Interpretation: What does the overlap pattern tell you? (2-3 sentences)\n",
        "\n",
        "---"
      ]
    },
    {
      "cell_type": "markdown",
      "source": [
        "#### 🟩 Enter your code and text here"
      ],
      "metadata": {
        "id": "De5ky9Yi6ML4"
      }
    },
    {
      "cell_type": "code",
      "execution_count": null,
      "metadata": {
        "id": "klOYdzPV6ML5"
      },
      "outputs": [],
      "source": [
        "# Part 3.2 code here"
      ]
    },
    {
      "cell_type": "markdown",
      "source": [
        "*Part 3.2 written answers here*"
      ],
      "metadata": {
        "id": "nlNgHP2-6ML5"
      }
    },
    {
      "cell_type": "markdown",
      "metadata": {
        "id": "qOODDkLVnHch"
      },
      "source": [
        "---\n",
        "\n",
        "### Part 3.3: Gene Set Enrichment Analysis - Separate Lists\n",
        "\n",
        "Now perform enrichment analysis on each of your three gene lists separately. For this task, you'll independently learn to use a new package (GSEApy) - an essential skill for computational biology!\n",
        "\n",
        "**📚 Learning Resources:**\n",
        "- Official documentation: https://gseapy.readthedocs.io/en/latest/\n",
        "- Focus on the `enrichr()` function for over-representation analysis\n",
        "\n",
        "**🧪 GSEApy Quick Start Example:**\n",
        "\n",
        "Before analyzing your real data, test with known cell cycle genes to verify your setup works:\n",
        "\n",
        "```python\n",
        "import gseapy as gp\n",
        "\n",
        "# Test with known cell cycle genes (should give clear cell cycle pathways!)\n",
        "test_genes = ['CDK1', 'CCNB1', 'PLK1', 'AURKA', 'CDC20',\n",
        "              'BUB1', 'CCNA2', 'CDC25C', 'CDK2', 'CCNE1']\n",
        "\n",
        "# Run enrichment\n",
        "enr_test = gp.enrichr(\n",
        "    gene_list=test_genes,\n",
        "    gene_sets='GO_Biological_Process_2023',\n",
        "    organism='human',\n",
        "    cutoff=0.05  # FDR threshold\n",
        ")\n",
        "\n",
        "# View results\n",
        "print(\"\\\\n✅ Top enriched pathways (should see cell cycle!):\")\n",
        "print(enr_test.results[['Term', 'Adjusted P-value', 'Genes']].head(10))\n",
        "\n",
        "# Create bar plot\n",
        "gp.barplot(enr_test.results,\n",
        "          title='Test: Cell Cycle Gene Enrichment',\n",
        "          cutoff=0.05)\n",
        "\n",
        "# ✅ You should see pathways like \"cell cycle\", \"mitotic nuclear division\", etc.\n",
        "# If this works, you're ready to analyze your PKMYT1-correlated genes!\n",
        "```\n",
        "\n",
        "---\n",
        "\n",
        "**Tasks:**\n",
        "\n",
        "1. **Enrichment for Dependency-Dependency correlations**\n",
        "   - Use your `genes_dep_dep` list (top 100 genes correlated with PKMYT1 dependency)\n",
        "   - Run `gseapy.enrichr()` against three databases:\n",
        "     - `'GO_Biological_Process_2023'`\n",
        "     - `'KEGG_2021_Human'`\n",
        "     - `'MSigDB_Hallmark_2020'`\n",
        "   - Set parameters:\n",
        "     - `cutoff=0.05` (FDR threshold)\n",
        "     - `organism='human'`\n",
        "   - For each database:\n",
        "     - Save results to a dataframe\n",
        "     - Report number of significant pathways (Adjusted P-value < 0.05)\n",
        "     - Show top 10 pathways with their p-values\n",
        "   - Create bar plots showing top 10 pathways from each database\n",
        "\n",
        "2. **Enrichment for Expression-Expression correlations**\n",
        "   - Repeat the same process for `genes_expr_expr`\n",
        "   - Compare with dependency-dependency results:\n",
        "     - Are the same pathways enriched?\n",
        "     - Are there expression-specific findings?\n",
        "   - Create a side-by-side comparison plot (dep-dep vs expr-expr top pathways)\n",
        "\n",
        "3. **Enrichment for Expression-Dependency correlations**\n",
        "   - Repeat for `genes_expr_dep` (cross-modal analysis)\n",
        "   - This list may show different biology - genes predictable from PKMYT1 expression\n",
        "   - Are there unique pathways not seen in the other analyses?\n",
        "\n",
        "4. **Separate by correlation direction**\n",
        "   - For each analysis type, split gene lists by direction:\n",
        "     - **Positively correlated**: Co-essential/co-expressed with PKMYT1\n",
        "     - **Negatively correlated**: Anti-correlated with PKMYT1\n",
        "   - Run enrichment separately for each direction\n",
        "   - Create comparison tables showing:\n",
        "     - Analysis type (dep-dep, expr-expr, expr-dep)\n",
        "     - Direction (positive vs negative)\n",
        "     - Top 5 pathways for each\n",
        "   - **Key biological question**:\n",
        "     - Do positively correlated genes show PKMYT1-related pathways (cell cycle, DNA repair)?\n",
        "     - Do negatively correlated genes show compensatory pathways?\n",
        "   - Create a comprehensive figure with 6 bar plots (3 analyses × 2 directions)\n",
        "\n",
        "**Expected Output:**\n",
        "- 9 enrichment result dataframes (3 analyses × 3 databases)\n",
        "- 6 additional enrichment results (3 analyses × 2 directions, using best database)\n",
        "- Bar plots for top pathways (at least 6 plots)\n",
        "- Comparison tables across analyses\n",
        "- Written interpretation (4-5 sentences) addressing:\n",
        "  - What are the dominant biological themes for PKMYT1-correlated genes?\n",
        "  - Do the three analysis types converge on similar biology?\n",
        "  - What's different between positively and negatively correlated gene sets?\n",
        "  - Are there surprising pathways you didn't expect?\n",
        "\n",
        "**Tips:**\n",
        "- Start with the test example to verify your code works!\n",
        "- Save all enrichment results - you'll need them for Part 4\n",
        "- If a gene list returns no significant pathways, try relaxing cutoff to 0.10\n",
        "- Document any warnings or errors from GSEApy\n",
        "- Some gene symbols may not be recognized - note how many genes were actually used\n",
        "\n",
        "---"
      ]
    },
    {
      "cell_type": "markdown",
      "source": [
        "#### 🟩 Enter your code and text here"
      ],
      "metadata": {
        "id": "TvVFGW1r6ZJC"
      }
    },
    {
      "cell_type": "code",
      "execution_count": null,
      "metadata": {
        "id": "GaBQY-xF6ZJD"
      },
      "outputs": [],
      "source": [
        "# Part 3.3 code here"
      ]
    },
    {
      "cell_type": "markdown",
      "source": [
        "*Part 3.3 written answers here*"
      ],
      "metadata": {
        "id": "ddADFlMa6ZJE"
      }
    },
    {
      "cell_type": "markdown",
      "metadata": {
        "id": "4f-h8vwFnHch"
      },
      "source": [
        "---\n",
        "\n",
        "### Part 3.4: Comprehensive Integration and Core Gene Analysis\n",
        "\n",
        "Now that you've performed enrichment on individual gene lists, let's integrate everything to identify the most robust findings.\n",
        "\n",
        "**Tasks:**\n",
        "\n",
        "**1. Core Gene Identification and Characterization**\n",
        "- Identify \"core genes\" that appear in 2 or more of your top 100 lists\n",
        "- Create a detailed table for these core genes showing:\n",
        "  - Gene name\n",
        "  - Which lists it appears in (dep-dep, expr-expr, expr-dep)\n",
        "  - Correlation coefficients from all three analyses\n",
        "  - FDR values from all three analyses\n",
        "  - Known function (look up 2-3 of the most interesting ones)\n",
        "- How many core genes did you identify?\n",
        "- Create a heatmap showing correlation values for core genes across the three analyses\n",
        "\n",
        "**2. Core Gene Enrichment Analysis**\n",
        "- Take your \"core genes\" (present in 2+ lists) as a single gene set\n",
        "- Run enrichment analysis on this integrated list\n",
        "- Compare results with individual list enrichments from Part 3.3\n",
        "- Are there pathways enriched in core genes that weren't obvious from individual analyses?\n",
        "- Create a bar plot showing top 15 pathways enriched in core genes\n",
        "- **Interpretation**: What biological story emerges from these highly robust genes?\n",
        "\n",
        "**3. Cancer Type-Specific Correlation Patterns**\n",
        "- For your top 10 core genes, examine if correlation patterns differ by cancer type\n",
        "- Create a heatmap showing correlation (PKMYT1-gene) for each cancer lineage\n",
        "- Are there cancer types where certain genes show particularly strong/weak correlations?\n",
        "- Does this reveal cancer type-specific biology?\n",
        "- **Code tip**:\n",
        "  ```python\n",
        "  # For each core gene and cancer type, calculate correlation\n",
        "  results = []\n",
        "  for gene in core_genes:\n",
        "      for cancer_type in cancer_types:\n",
        "          subset = df[df['lineage'] == cancer_type]\n",
        "          if len(subset) >= 5:  # Minimum sample size\n",
        "              r, p = pearsonr(subset['PKMYT1'], subset[gene])\n",
        "              results.append({'gene': gene, 'cancer': cancer_type, 'r': r, 'p': p})\n",
        "  \n",
        "  # Create heatmap from results\n",
        "  pivot = pd.DataFrame(results).pivot(index='gene', columns='cancer', values='r')\n",
        "  sns.heatmap(pivot, cmap='RdBu_r', center=0, vmin=-1, vmax=1)\n",
        "  ```\n",
        "\n",
        "**4. Therapeutic Target Prioritization**\n",
        "- Create a \"therapeutic potential score\" for each core gene based on:\n",
        "  - Strength of correlation with PKMYT1 (average absolute value |r| across analyses)\n",
        "  - Consistency (present in how many lists?)\n",
        "  - Pathway membership (is it in druggable pathways?)\n",
        "  - Dependency score (is it also essential in cancer cells?)\n",
        "- Rank your core genes by therapeutic potential\n",
        "- Create a table showing:\n",
        "  - Top 10 genes ranked by therapeutic potential\n",
        "  - Your scoring criteria\n",
        "  - Why each might be a good combination therapy target with PKMYT1\n",
        "- **Discussion**: Which 3 genes would you prioritize for experimental validation? Why?\n",
        "\n",
        "**Expected Output:**\n",
        "- Core gene characterization table\n",
        "- Heatmaps showing correlation patterns\n",
        "- Enrichment analysis results for core genes\n",
        "- Cancer type-specific correlation heatmap\n",
        "- Therapeutic prioritization ranking\n",
        "- Written interpretation (3-4 sentences) addressing:\n",
        "  - What makes the core genes special?\n",
        "  - What biological themes emerge?\n",
        "  - Which genes are the best therapeutic targets?\n",
        "  - Do different cancer types show different dependencies?\n",
        "\n",
        "  ---"
      ]
    },
    {
      "cell_type": "markdown",
      "source": [
        "#### 🟩 Enter your code and text here"
      ],
      "metadata": {
        "id": "wobRlX1o6kJ8"
      }
    },
    {
      "cell_type": "code",
      "execution_count": null,
      "metadata": {
        "id": "25NXAzpj6kJ9"
      },
      "outputs": [],
      "source": [
        "# Part 3.4 code here"
      ]
    },
    {
      "cell_type": "markdown",
      "source": [
        "*Part 3.4 written answers here*"
      ],
      "metadata": {
        "id": "o8uLIf5A6kJ9"
      }
    },
    {
      "cell_type": "markdown",
      "metadata": {
        "id": "KbF89uinnHch"
      },
      "source": [
        "---\n",
        "## Part 4: 🌟 Final Synthesis\n",
        "\n",
        "In this final section, you'll synthesize all your findings into a comprehensive summary figure and accompanying legend explaining your data and conclusions. This demonstrates your ability to communicate computational biology results effectively - a critical skill for any researcher.\n"
      ]
    },
    {
      "cell_type": "markdown",
      "source": [
        "### 🎯 Marking Criteria: deliverables for Part 4\n",
        "- Code to generate a comprehensive multi-panel figure\n",
        "- Code to save both PNG and PDF versions\n",
        "- Figure legend in markdown cell explaining each panel (~200 words)"
      ],
      "metadata": {
        "id": "CzXfuVDt8B0e"
      }
    },
    {
      "cell_type": "markdown",
      "metadata": {
        "id": "fshHOWqXnHch"
      },
      "source": [
        "### Part 4.1: Create Summary Figure\n",
        "\n",
        "Create a multi-panel publication-quality figure (named **Figure 1**) that tells the complete story of your analysis.\n",
        "\n",
        "**Requirements:**\n",
        "\n",
        "1. **Panel Layout**\n",
        "   - Create a figure with 6 panels (2 rows × 3 columns OR 3 rows × 2 columns)\n",
        "   - Each panel should be clearly labeled (A, B, C, D, E, F)\n",
        "   - Use consistent color schemes across panels\n",
        "   - Include a comprehensive figure legend\n",
        "\n",
        "2. **Required Panels**:\n",
        "   - **Panel A**: PKMYT1 expression vs. dependency scatter plot (from Part 1.2)\n",
        "   - **Panel B**: PKMYT1 dependency across cancer types (box plot or bar plot from Part 1.3)\n",
        "   - **Panel C**: Volcano plot from one correlation analysis (your choice of best one from Part 2.3)\n",
        "   - **Panel D**: Venn diagram showing overlap of top correlations (from Part 3.2)\n",
        "   - **Panel E**: Top enriched pathways (bar plot from Part 3.3)\n",
        "   - **Panel F**: Heatmap showing expression/dependency of core genes across cancer types (from Part 3.4)\n",
        "\n",
        "3. **Figure Quality**:\n",
        "   - High resolution (at least 300 DPI)\n",
        "   - Clear, readable labels and legends\n",
        "   - Consistent font sizes\n",
        "   - Professional appearance suitable for publication\n",
        "   - Save as both PNG and PDF formats\n",
        "\n",
        "**Code Tip:**\n",
        "```python\n",
        "import matplotlib.pyplot as plt\n",
        "import matplotlib.gridspec as gridspec\n",
        "\n",
        "# Create figure with subplots\n",
        "fig = plt.figure(figsize=(18, 12), dpi=300)\n",
        "gs = gridspec.GridSpec(2, 3, figure=fig, hspace=0.3, wspace=0.3)\n",
        "\n",
        "# Panel A\n",
        "ax1 = fig.add_subplot(gs[0, 0])\n",
        "# ... your plot code ...\n",
        "ax1.text(-0.1, 1.1, 'A', transform=ax1.transAxes,\n",
        "        fontsize=16, fontweight='bold')\n",
        "\n",
        "# Panel B\n",
        "ax2 = fig.add_subplot(gs[0, 1])\n",
        "# ... your plot code ...\n",
        "ax2.text(-0.1, 1.1, 'B', transform=ax2.transAxes,\n",
        "        fontsize=16, fontweight='bold')\n",
        "\n",
        "# Continue for panels C, D, E, F...\n",
        "\n",
        "plt.savefig('Figure1_PKMYT1_Analysis_Summary.png', dpi=300, bbox_inches='tight')\n",
        "plt.savefig('Figure1_PKMYT1_Analysis_Summary.pdf', bbox_inches='tight')\n",
        "plt.show()\n",
        "```\n",
        "\n",
        "---"
      ]
    },
    {
      "cell_type": "markdown",
      "source": [
        "#### 🟪 Enter your code and text here"
      ],
      "metadata": {
        "id": "si3m6lmp7PYL"
      }
    },
    {
      "cell_type": "code",
      "execution_count": null,
      "metadata": {
        "id": "io0F3nFc7PYM"
      },
      "outputs": [],
      "source": [
        "# Part 4.1 code here"
      ]
    },
    {
      "cell_type": "markdown",
      "source": [
        "*Part 4.1 written answer here*"
      ],
      "metadata": {
        "id": "1w3vBPW475EH"
      }
    }
  ],
  "metadata": {
    "kernelspec": {
      "display_name": ".venv",
      "language": "python",
      "name": "python3"
    },
    "language_info": {
      "codemirror_mode": {
        "name": "ipython",
        "version": 3
      },
      "file_extension": ".py",
      "mimetype": "text/x-python",
      "name": "python",
      "nbconvert_exporter": "python",
      "pygments_lexer": "ipython3",
      "version": "3.12.10"
    },
    "colab": {
      "provenance": [],
      "toc_visible": true,
      "include_colab_link": true
    }
  },
  "nbformat": 4,
  "nbformat_minor": 0
}